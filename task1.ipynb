{
 "cells": [
  {
   "cell_type": "code",
   "execution_count": 1,
   "id": "3c726bf0",
   "metadata": {},
   "outputs": [
    {
     "name": "stdout",
     "output_type": "stream",
     "text": [
      "enter number:-5\n",
      "5\n"
     ]
    }
   ],
   "source": [
    "x=int(input(\"enter number:\"))\n",
    "if x<0 :\n",
    "    print (x*-1 )\n",
    "else :\n",
    "    print (x)"
   ]
  },
  {
   "cell_type": "code",
   "execution_count": 2,
   "id": "63c3f360",
   "metadata": {},
   "outputs": [
    {
     "name": "stdout",
     "output_type": "stream",
     "text": [
      "enter year:2012\n",
      "its a leap year\n"
     ]
    }
   ],
   "source": [
    "y=int(input(\"enter year:\"))\n",
    "if y%4==0 and y%100!=0 :\n",
    "    print (\"its a leap year\")\n",
    "    \n",
    "else :\n",
    "        print(\"not a leap year\")\n"
   ]
  },
  {
   "cell_type": "code",
   "execution_count": 3,
   "id": "f833ff1d",
   "metadata": {},
   "outputs": [
    {
     "name": "stdout",
     "output_type": "stream",
     "text": [
      "enter age:50\n",
      "enter age:70\n",
      "enter age:80\n",
      "old person: 80\n",
      "Young person: 50\n"
     ]
    }
   ],
   "source": [
    "i=1 \n",
    "old=0\n",
    "young =0\n",
    "while i<=3:\n",
    "    n=int(input(\"enter age:\"))\n",
    "    if i == 1:\n",
    "        old = n\n",
    "        young = n\n",
    "    else:\n",
    "        if n > old:\n",
    "            old = n\n",
    "        if n < young:\n",
    "            young = n\n",
    "    i+=1\n",
    "print(\"old person:\", old)\n",
    "print(\"Young person:\", young)"
   ]
  },
  {
   "cell_type": "code",
   "execution_count": 4,
   "id": "31fae5ca",
   "metadata": {},
   "outputs": [
    {
     "name": "stdout",
     "output_type": "stream",
     "text": [
      "Password: ········\n"
     ]
    }
   ],
   "source": [
    "import getpass\n",
    "\n",
    "password = getpass.getpass(\"Password: \")"
   ]
  },
  {
   "cell_type": "code",
   "execution_count": null,
   "id": "c1ad661f",
   "metadata": {},
   "outputs": [],
   "source": []
  }
 ],
 "metadata": {
  "kernelspec": {
   "display_name": "Python 3 (ipykernel)",
   "language": "python",
   "name": "python3"
  },
  "language_info": {
   "codemirror_mode": {
    "name": "ipython",
    "version": 3
   },
   "file_extension": ".py",
   "mimetype": "text/x-python",
   "name": "python",
   "nbconvert_exporter": "python",
   "pygments_lexer": "ipython3",
   "version": "3.11.5"
  }
 },
 "nbformat": 4,
 "nbformat_minor": 5
}
